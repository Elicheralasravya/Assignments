{
  "cells": [
    {
      "cell_type": "markdown",
      "metadata": {
        "id": "sAet2gMjnyxj"
      },
      "source": [
        "#  Estimation And Confidence Intervals"
      ]
    },
    {
      "cell_type": "markdown",
      "metadata": {
        "id": "VQy-YOeex3sO"
      },
      "source": []
    },
    {
      "cell_type": "code",
      "execution_count": null,
      "metadata": {
        "colab": {
          "base_uri": "https://localhost:8080/"
        },
        "id": "49fd55e6",
        "outputId": "f759cfff-a7e2-4f90-abe8-bf40b187f70b"
      },
      "outputs": [
        {
          "output_type": "stream",
          "name": "stdout",
          "text": [
            "Sample Mean: 1.2387 million characters\n",
            "Sample Standard Deviation: 0.1932 million characters\n"
          ]
        }
      ],
      "source": [
        "import numpy as np\n",
        "import pandas as pd\n",
        "\n",
        "data = np.array([1.13, 1.55, 1.43, 0.92, 1.25, 1.36, 1.32, 0.85, 1.07, 1.48, 1.20, 1.33, 1.18, 1.22, 1.29])\n",
        "\n",
        "# Calculate sample mean and standard deviation\n",
        "sample_mean = np.mean(data)\n",
        "sample_std = np.std(data, ddof=1) # Use ddof=1 for sample standard deviation\n",
        "\n",
        "print(f\"Sample Mean: {sample_mean:.4f} million characters\")\n",
        "print(f\"Sample Standard Deviation: {sample_std:.4f} million characters\")"
      ]
    },
    {
      "cell_type": "markdown",
      "metadata": {
        "id": "QXVwAjUJ1W_L"
      },
      "source": [
        "### Assigment task"
      ]
    },
    {
      "cell_type": "markdown",
      "source": [
        "### a.Build 99% confidence interval using sample standard deviation"
      ],
      "metadata": {
        "id": "RIWZJM325B2F"
      }
    },
    {
      "cell_type": "code",
      "execution_count": null,
      "metadata": {
        "id": "21afb8ca",
        "colab": {
          "base_uri": "https://localhost:8080/"
        },
        "outputId": "c8c3a1f5-20e2-4668-8c8a-1f6eeb198011"
      },
      "outputs": [
        {
          "output_type": "stream",
          "name": "stdout",
          "text": [
            "Degrees of Freedom: 14\n",
            "Critical t-value for 99.0% confidence: 2.9768\n",
            "Margin of Error: 0.1485 million characters\n",
            "99% Confidence Interval: (1.0902, 1.3871) million characters\n"
          ]
        }
      ],
      "source": [
        "from scipy.stats import t\n",
        "# Sample size, mean, and standard deviation from previous calculation\n",
        "n = len(data)\n",
        "sample_mean = np.mean(data)\n",
        "sample_std = np.std(data, ddof=1)\n",
        "\n",
        "\n",
        "# Confidence level and alpha\n",
        "confidence_level = 0.99\n",
        "alpha = 1 - confidence_level\n",
        "\n",
        "# Degrees of freedom\n",
        "df = n - 1\n",
        "\n",
        "# Critical t-value\n",
        "t_critical = t.ppf(1 - alpha/2, df)\n",
        "\n",
        "# Margin of Error\n",
        "margin_of_error = t_critical * (sample_std / np.sqrt(n))\n",
        "\n",
        "# Confidence interval\n",
        "confidence_interval = (sample_mean - margin_of_error, sample_mean + margin_of_error)\n",
        "\n",
        "print(f\"Degrees of Freedom: {df}\")\n",
        "print(f\"Critical t-value for {confidence_level*100}% confidence: {t_critical:.4f}\")\n",
        "print(f\"Margin of Error: {margin_of_error:.4f} million characters\")\n",
        "print(f\"99% Confidence Interval: ({confidence_interval[0]:.4f}, {confidence_interval[1]:.4f}) million characters\")"
      ]
    },
    {
      "cell_type": "markdown",
      "source": [
        "### b.Build 99% confidence interval using known population standard deviation"
      ],
      "metadata": {
        "id": "HMqpWIjx5iYe"
      }
    },
    {
      "cell_type": "code",
      "execution_count": null,
      "metadata": {
        "id": "i9rgBOeH1vOX"
      },
      "outputs": [],
      "source": [
        "import numpy as np\n",
        "from scipy.stats import norm\n"
      ]
    },
    {
      "cell_type": "code",
      "source": [
        "import numpy as np\n",
        "from scipy.stats import norm\n",
        "\n",
        "data = np.array([1.13, 1.55, 1.43, 0.92, 1.25, 1.36, 1.32, 0.85, 1.07, 1.48, 1.20, 1.33, 1.18, 1.22, 1.29])\n",
        "\n",
        "# Sample size, mean, and standard deviation from previous calculation\n",
        "n = len(data)\n",
        "sample_mean = np.mean(data)\n",
        "\n",
        "# Known population standard deviation\n",
        "population_std = 0.2\n",
        "\n",
        "# Confidence level and alpha\n",
        "confidence_level = 0.99\n",
        "alpha = 1 - confidence_level\n",
        "\n",
        "# Critical z-value\n",
        "z_critical = norm.ppf(1 - alpha/2)\n",
        "\n",
        "# Margin of Error\n",
        "margin_of_error_pop = z_critical * (population_std / np.sqrt(n))\n",
        "\n",
        "\n",
        "# Confidence interval\n",
        "confidence_interval_pop = (sample_mean - margin_of_error_pop, sample_mean + margin_of_error_pop)\n",
        "\n",
        "print(f\"Critical z-value for {confidence_level*100}% confidence: {z_critical:.4f}\")\n",
        "print(f\"Margin of Error (known population std): {margin_of_error_pop:.4f} million characters\")\n",
        "print(f\"99% Confidence Interval (known population std): ({confidence_interval_pop[0]:.4f}, {confidence_interval_pop[1]:.4f}) million characters\")"
      ],
      "metadata": {
        "id": "8cCAnnW86N4D",
        "colab": {
          "base_uri": "https://localhost:8080/"
        },
        "outputId": "4709286a-a7f2-43b7-9a5a-cc9bd7a70766"
      },
      "execution_count": null,
      "outputs": [
        {
          "output_type": "stream",
          "name": "stdout",
          "text": [
            "Critical z-value for 99.0% confidence: 2.5758\n",
            "Margin of Error (known population std): 0.1330 million characters\n",
            "99% Confidence Interval (known population std): (1.1057, 1.3717) million characters\n"
          ]
        }
      ]
    }
  ],
  "metadata": {
    "colab": {
      "provenance": []
    },
    "kernelspec": {
      "display_name": "Python 3",
      "name": "python3"
    },
    "language_info": {
      "name": "python"
    }
  },
  "nbformat": 4,
  "nbformat_minor": 0
}