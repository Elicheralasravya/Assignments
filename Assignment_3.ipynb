{
  "nbformat": 4,
  "nbformat_minor": 0,
  "metadata": {
    "colab": {
      "provenance": []
    },
    "kernelspec": {
      "name": "python3",
      "display_name": "Python 3"
    },
    "language_info": {
      "name": "python"
    }
  },
  "cells": [
    {
      "cell_type": "markdown",
      "source": [
        "#   Estimation And Confidence Intervals"
      ],
      "metadata": {
        "id": "drpxtXbr2_bK"
      }
    },
    {
      "cell_type": "markdown",
      "source": [
        "### Background\n",
        "In quality control processes, especially when dealing with high-value items, destructive sampling is a necessary but costly method to ensure product quality. The test to determine whether an item meets the quality standards destroys the item, leading to the requirement of small sample sizes due to cost constraints.\n",
        "### Scenario\n",
        "A manufacturer of print-heads for personal computers is interested in estimating the mean durability of their print-heads in terms of the number of characters printed before failure. To assess this, the manufacturer conducts a study on a small sample of print-heads due to the destructive nature of the testing process.\n",
        "### Data\n",
        "A total of 15 print-heads were randomly selected and tested until failure. The durability of each print-head (in millions of characters) was recorded as follows:\n",
        "1.13, 1.55, 1.43, 0.92, 1.25, 1.36, 1.32, 0.85, 1.07, 1.48, 1.20, 1.33, 1.18, 1.22, 1.29\n"
      ],
      "metadata": {
        "id": "1TR3V7N-w_O_"
      }
    },
    {
      "cell_type": "code",
      "execution_count": null,
      "metadata": {
        "id": "WHhVJtubwyF9"
      },
      "outputs": [],
      "source": []
    },
    {
      "cell_type": "code",
      "metadata": {
        "colab": {
          "base_uri": "https://localhost:8080/"
        },
        "id": "253b3dba",
        "outputId": "92bb35ab-8fb7-4b4a-b783-a6b39b8afcfd"
      },
      "source": [
        "import numpy as np\n",
        "\n",
        "durability_data = np.array([1.13, 1.55, 1.43, 0.92, 1.25, 1.36, 1.32, 0.85, 1.07, 1.48, 1.20, 1.33, 1.18, 1.22, 1.29])\n",
        "print(\"Durability data (in millions of characters):\")\n",
        "print(durability_data)"
      ],
      "execution_count": null,
      "outputs": [
        {
          "output_type": "stream",
          "name": "stdout",
          "text": [
            "Durability data (in millions of characters):\n",
            "[1.13 1.55 1.43 0.92 1.25 1.36 1.32 0.85 1.07 1.48 1.2  1.33 1.18 1.22\n",
            " 1.29]\n"
          ]
        }
      ]
    },
    {
      "cell_type": "markdown",
      "metadata": {
        "id": "53973bf0"
      },
      "source": [
        "# Task\n",
        "Analyze the provided print-head durability data to estimate the mean durability and construct a confidence interval for the mean. Summarize the findings."
      ]
    },
    {
      "cell_type": "markdown",
      "metadata": {
        "id": "f3855fa5"
      },
      "source": [
        "## Calculate summary statistics\n",
        "\n",
        "### Subtask:\n",
        "Calculate the mean and standard deviation of the durability data.\n"
      ]
    },
    {
      "cell_type": "markdown",
      "metadata": {
        "id": "f03528d4"
      },
      "source": [
        "**Reasoning**:\n",
        "Calculate the mean and standard deviation of the durability data using numpy functions and print the results.\n",
        "\n"
      ]
    },
    {
      "cell_type": "code",
      "metadata": {
        "colab": {
          "base_uri": "https://localhost:8080/"
        },
        "id": "2d9025ca",
        "outputId": "12f15dfc-d966-431c-fd42-ab8ad1bb271c"
      },
      "source": [
        "mean_durability = np.mean(durability_data)\n",
        "std_durability = np.std(durability_data)\n",
        "\n",
        "print(f\"Mean durability: {mean_durability:.4f} million characters\")\n",
        "print(f\"Standard deviation of durability: {std_durability:.4f} million characters\")"
      ],
      "execution_count": null,
      "outputs": [
        {
          "output_type": "stream",
          "name": "stdout",
          "text": [
            "Mean durability: 1.2387 million characters\n",
            "Standard deviation of durability: 0.1866 million characters\n"
          ]
        }
      ]
    },
    {
      "cell_type": "markdown",
      "metadata": {
        "id": "d56a6c4b"
      },
      "source": [
        "## Construct a confidence interval\n",
        "\n",
        "### Subtask:\n",
        "Calculate a confidence interval for the mean durability of the print-heads.\n"
      ]
    },
    {
      "cell_type": "markdown",
      "metadata": {
        "id": "5293f890"
      },
      "source": [
        "**Reasoning**:\n",
        "Calculate the confidence interval for the mean durability based on the provided data and previously calculated mean and standard deviation.\n",
        "\n"
      ]
    },
    {
      "cell_type": "code",
      "metadata": {
        "colab": {
          "base_uri": "https://localhost:8080/"
        },
        "id": "086aa0a6",
        "outputId": "3173a369-3d2b-409f-a3c9-ba690ca8fabe"
      },
      "source": [
        "from scipy.stats import t\n",
        "from math import sqrt\n",
        "\n",
        "n = len(durability_data)\n",
        "confidence_level = 0.95\n",
        "alpha = 1 - confidence_level\n",
        "degrees_freedom = n - 1\n",
        "\n",
        "critical_t_value = t.ppf(1 - alpha/2, degrees_freedom)\n",
        "\n",
        "standard_error = std_durability / sqrt(n)\n",
        "\n",
        "margin_of_error = critical_t_value * standard_error\n",
        "\n",
        "lower_bound = mean_durability - margin_of_error\n",
        "upper_bound = mean_durability + margin_of_error\n",
        "\n",
        "print(f\"{confidence_level*100:.0f}% Confidence Interval for the Mean Durability:\")\n",
        "print(f\"({lower_bound:.4f}, {upper_bound:.4f}) million characters\")"
      ],
      "execution_count": null,
      "outputs": [
        {
          "output_type": "stream",
          "name": "stdout",
          "text": [
            "95% Confidence Interval for the Mean Durability:\n",
            "(1.1353, 1.3420) million characters\n"
          ]
        }
      ]
    },
    {
      "cell_type": "markdown",
      "metadata": {
        "id": "25f88116"
      },
      "source": [
        "## Interpret the results\n",
        "\n",
        "### Subtask:\n",
        "Explain the meaning of the calculated statistics and the confidence interval in the context of the problem.\n"
      ]
    },
    {
      "cell_type": "markdown",
      "metadata": {
        "id": "5341a923"
      },
      "source": [
        "**Reasoning**:\n",
        "Explain the meaning of the calculated statistics and the confidence interval in the context of the problem based on the previously calculated values.\n",
        "\n"
      ]
    },
    {
      "cell_type": "code",
      "metadata": {
        "colab": {
          "base_uri": "https://localhost:8080/"
        },
        "collapsed": true,
        "id": "6c85bb10",
        "outputId": "2405383d-4fc3-4d1f-ec43-038f89d5dbbc"
      },
      "source": [
        "print(\"Interpretation of the Results:\")\n",
        "print(f\"\\n1. Mean Durability: The calculated mean durability of {mean_durability:.4f} million characters represents the average number of characters that this sample of 15 print-heads lasted before failing. It serves as our best point estimate for the true average durability of all print-heads produced by the manufacturer.\")\n",
        "print(f\"\\n2. Standard Deviation: The standard deviation of {std_durability:.4f} million characters indicates the typical spread or variability in the durability among the print-heads in our sample. A larger standard deviation would suggest more variation in how long individual print-heads last, while a smaller one indicates that the durabilities are clustered more closely around the mean.\")\n",
        "print(f\"\\n3. Confidence Interval: We calculated a {confidence_level*100:.0f}% confidence interval for the mean durability to be ({lower_bound:.4f}, {upper_bound:.4f}) million characters.\")\n",
        "print(f\"This means that if we were to repeat this sampling and confidence interval calculation process many times, approximately {confidence_level*100:.0f}% of the intervals constructed would contain the true mean durability of all print-heads.\")\n",
        "print(f\"\\n4. Conclusion: Based on this sample and our {confidence_level*100:.0f}% confidence interval, we are {confidence_level*100:.0f}% confident that the true average durability of the manufacturer's print-heads is between {lower_bound:.4f} million and {upper_bound:.4f} million characters. This interval provides a range of plausible values for the population mean durability, taking into account the variability in our sample data.\")"
      ],
      "execution_count": null,
      "outputs": [
        {
          "output_type": "stream",
          "name": "stdout",
          "text": [
            "Interpretation of the Results:\n",
            "\n",
            "1. Mean Durability: The calculated mean durability of 1.2387 million characters represents the average number of characters that this sample of 15 print-heads lasted before failing. It serves as our best point estimate for the true average durability of all print-heads produced by the manufacturer.\n",
            "\n",
            "2. Standard Deviation: The standard deviation of 0.1866 million characters indicates the typical spread or variability in the durability among the print-heads in our sample. A larger standard deviation would suggest more variation in how long individual print-heads last, while a smaller one indicates that the durabilities are clustered more closely around the mean.\n",
            "\n",
            "3. Confidence Interval: We calculated a 95% confidence interval for the mean durability to be (1.1353, 1.3420) million characters.\n",
            "This means that if we were to repeat this sampling and confidence interval calculation process many times, approximately 95% of the intervals constructed would contain the true mean durability of all print-heads.\n",
            "\n",
            "4. Conclusion: Based on this sample and our 95% confidence interval, we are 95% confident that the true average durability of the manufacturer's print-heads is between 1.1353 million and 1.3420 million characters. This interval provides a range of plausible values for the population mean durability, taking into account the variability in our sample data.\n"
          ]
        }
      ]
    },
    {
      "cell_type": "markdown",
      "metadata": {
        "id": "e146c5de"
      },
      "source": [
        "## Summary:\n",
        "\n",
        "### Data Analysis Key Findings\n",
        "\n",
        "*   The mean durability of the print heads is estimated to be approximately 1.2387 million characters, based on the sample data.\n",
        "*   The standard deviation of the print head durability is approximately 0.1866 million characters, indicating the spread of durability values around the mean in the sample.\n",
        "*   A 95% confidence interval for the true mean durability of the print heads was calculated to be (1.1353, 1.3420) million characters.\n",
        "\n",
        "### Insights or Next Steps\n",
        "\n",
        "*   We are 95% confident that the true average durability of the manufacturer's print heads falls within the range of 1.1353 million to 1.3420 million characters.\n",
        "*   Further testing with a larger sample size could narrow the confidence interval and provide a more precise estimate of the true mean durability.\n"
      ]
    },
    {
      "cell_type": "markdown",
      "source": [
        "### Assignment Tasks\n"
      ],
      "metadata": {
        "id": "mDreSh0AzGts"
      }
    },
    {
      "cell_type": "markdown",
      "source": [
        "#### a. Build 99% Confidence Interval Using Sample Standard Deviation"
      ],
      "metadata": {
        "id": "nNM9ndzpzKJf"
      }
    },
    {
      "cell_type": "code",
      "metadata": {
        "colab": {
          "base_uri": "https://localhost:8080/"
        },
        "id": "8857d7bf",
        "outputId": "7204561c-3141-406d-969f-b5856435019c"
      },
      "source": [
        "from scipy.stats import t\n",
        "from math import sqrt\n",
        "\n",
        "n = len(durability_data)\n",
        "confidence_level_99 = 0.99\n",
        "alpha_99 = 1 - confidence_level_99\n",
        "degrees_freedom = n - 1\n",
        "\n",
        "critical_t_value_99 = t.ppf(1 - alpha_99/2, degrees_freedom)\n",
        "\n",
        "standard_error = std_durability / sqrt(n)\n",
        "\n",
        "margin_of_error_99 = critical_t_value_99 * standard_error\n",
        "\n",
        "lower_bound_99 = mean_durability - margin_of_error_99\n",
        "upper_bound_99 = mean_durability + margin_of_error_99\n",
        "\n",
        "print(f\"{confidence_level_99*100:.0f}% Confidence Interval for the Mean Durability:\")\n",
        "print(f\"({lower_bound_99:.4f}, {upper_bound_99:.4f}) million characters\")"
      ],
      "execution_count": null,
      "outputs": [
        {
          "output_type": "stream",
          "name": "stdout",
          "text": [
            "99% Confidence Interval for the Mean Durability:\n",
            "(1.0952, 1.3821) million characters\n"
          ]
        }
      ]
    },
    {
      "cell_type": "markdown",
      "source": [
        "Great! I can calculate the 99% confidence interval for the mean durability. We will use the t-distribution because the sample size is small (n < 30) and the population standard deviation is unknown, so we are using the sample standard deviation as an estimate. The t-distribution accounts for the increased uncertainty when estimating the population standard deviation from a small sample.\n",
        "Here's the code to calculate the 99% confidence interval:\n",
        "\n",
        "I have calculated the 99% confidence interval. Now, I will explain the steps taken and the rationale for using the t-distribution, and then summarize the findings.\n",
        "\n",
        "\n"
      ],
      "metadata": {
        "id": "eRuvhfqw0I5g"
      }
    },
    {
      "cell_type": "markdown",
      "source": [
        "b. Build 99% Confidence Interval Using Known Population Standard Deviation"
      ],
      "metadata": {
        "id": "sN4idrB00TSp"
      }
    },
    {
      "cell_type": "code",
      "metadata": {
        "colab": {
          "base_uri": "https://localhost:8080/"
        },
        "id": "fad576d1",
        "outputId": "9ed27c07-4dad-49bc-9382-252fc5eb38cf"
      },
      "source": [
        "from scipy.stats import norm\n",
        "from math import sqrt\n",
        "\n",
        "# Known population standard deviation\n",
        "population_std_dev = 0.2\n",
        "\n",
        "n = len(durability_data)\n",
        "confidence_level_99 = 0.99\n",
        "alpha_99 = 1 - confidence_level_99\n",
        "\n",
        "# For a known population standard deviation, we use the Z-distribution\n",
        "critical_z_value_99 = norm.ppf(1 - alpha_99/2)\n",
        "\n",
        "# Standard error with known population standard deviation\n",
        "standard_error_known_std = population_std_dev / sqrt(n)\n",
        "\n",
        "margin_of_error_known_std = critical_z_value_99 * standard_error_known_std\n",
        "\n",
        "lower_bound_known_std = mean_durability - margin_of_error_known_std\n",
        "upper_bound_known_std = mean_durability + margin_of_error_known_std\n",
        "\n",
        "print(f\"{confidence_level_99*100:.0f}% Confidence Interval for the Mean Durability (Known Population Std Dev):\")\n",
        "print(f\"({lower_bound_known_std:.4f}, {upper_bound_known_std:.4f}) million characters\")"
      ],
      "execution_count": null,
      "outputs": [
        {
          "output_type": "stream",
          "name": "stdout",
          "text": [
            "99% Confidence Interval for the Mean Durability (Known Population Std Dev):\n",
            "(1.1057, 1.3717) million characters\n"
          ]
        }
      ]
    },
    {
      "cell_type": "markdown",
      "metadata": {
        "id": "f27d01d7"
      },
      "source": [
        "### Comparison and Interpretation of the 99% Confidence Intervals\n",
        "\n",
        "We have calculated two different 99% confidence intervals for the mean durability of the print-heads:\n",
        "\n",
        "1.  **Using the Sample Standard Deviation (t-distribution):** ({lower_bound_99:.4f}, {upper_bound_99:.4f}) million characters\n",
        "2.  **Using a Known Population Standard Deviation (Z-distribution):** ({lower_bound_known_std:.4f}, {upper_bound_known_std:.4f}) million characters\n",
        "\n",
        "**Comparison:**\n",
        "\n",
        "*   The confidence interval calculated using the **sample standard deviation (t-distribution)** is slightly wider than the interval calculated using the **known population standard deviation (Z-distribution)**.\n",
        "    *   Margin of Error (Sample Std Dev): {margin_of_error_99:.4f} million characters\n",
        "    *   Margin of Error (Known Population Std Dev): {margin_of_error_known_std:.4f} million characters\n",
        "\n",
        "**Interpretation:**\n",
        "\n",
        "The difference in the width of the intervals is due to the difference in the underlying distributions used.\n",
        "\n",
        "*   When the population standard deviation is unknown and we use the sample standard deviation as an estimate (as in the first case), we introduce additional uncertainty. The **t-distribution** accounts for this by having heavier tails than the normal distribution, resulting in a slightly larger critical value and thus a wider confidence interval. This wider interval reflects the greater uncertainty when estimating the population standard deviation from a small sample.\n",
        "*   When the population standard deviation is known (as in the second case), there is less uncertainty regarding the variability of the population. The **Z-distribution** is used, which leads to a smaller critical value and a narrower confidence interval.\n",
        "\n",
        "**Conclusion:**\n",
        "\n",
        "Both intervals provide a range of plausible values for the true mean durability of the print-heads with 99% confidence. However, the interval based on the known population standard deviation provides a slightly more precise estimate (narrower interval) because it assumes less uncertainty about the population variability.\n",
        "\n",
        "In a real-world scenario, it is more common not to know the population standard deviation, especially with destructive testing and small sample sizes. Therefore, the confidence interval calculated using the sample standard deviation and the t-distribution is generally a more realistic and appropriate estimate in such situations, unless there is strong historical data or theoretical reason to assume a known population standard deviation."
      ]
    },
    {
      "cell_type": "markdown",
      "metadata": {
        "id": "5645a9ff"
      },
      "source": [
        "### Overall Summary\n",
        "\n",
        "In this analysis, we estimated the mean durability of print-heads based on a sample of 15.\n",
        "\n",
        "*   The sample mean durability was found to be **{mean_durability:.4f} million characters**.\n",
        "*   We calculated two 99% confidence intervals for the true mean durability:\n",
        "    *   Using the sample standard deviation (t-distribution): **({lower_bound_99:.4f}, {upper_bound_99:.4f}) million characters**\n",
        "    *   Using a known population standard deviation of 0.2 million characters (Z-distribution): **({lower_bound_known_std:.4f}, {upper_bound_known_std:.4f}) million characters**\n",
        "\n",
        "These confidence intervals suggest that we are 99% confident that the true average durability of the print-heads falls within these ranges. The interval calculated using the sample standard deviation is slightly wider, reflecting the greater uncertainty when the population standard deviation is unknown and estimated from a small sample.\n",
        "\n",
        "This analysis provides valuable insights into the expected lifespan of the print-heads and can be used by the manufacturer for quality control and product improvement decisions. Further testing with a larger sample size could provide a more precise estimate of the mean durability."
      ]
    }
  ]
}